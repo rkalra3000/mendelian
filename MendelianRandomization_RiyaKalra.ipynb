{
 "cells": [
  {
   "cell_type": "markdown",
   "id": "89cf24f4-77ea-4372-a286-07a6a7a7ea92",
   "metadata": {},
   "source": [
    "*Riya Kalra*"
   ]
  },
  {
   "cell_type": "markdown",
   "id": "74d567b3-b2b5-4e8f-b70f-bbd4f3c679d1",
   "metadata": {},
   "source": [
    "# Introduction"
   ]
  },
  {
   "cell_type": "markdown",
   "id": "65efdf25-1816-4cf2-8cb6-5fdfe322229a",
   "metadata": {},
   "source": [
    "Two-sample Mendelian Randomization (MR) is a powerful statistical method used to infer causal relationships between risk factors and health outcomes using genetic data. In this approach, genetic variants associated with an exposure (such as cholesterol levels) are used as instruments to assess their effect on an outcome (like heart disease) in separate, independent samples. By leveraging genetic variants, which are randomly allocated and less influenced by confounding factors, two-sample MR provides a robust way to estimate causal effects and avoid some of the biases present in traditional observational studies.\n",
    "\n",
    "This method involves obtaining summary statistics from two distinct datasets: one for the exposure and one for the outcome. By combining these datasets, researchers can estimate the causal effect of the exposure on the outcome with increased statistical power and precision. Two-sample MR is widely used in public health and biostatistics to provide insights into how modifiable risk factors impact health outcomes, guiding more effective prevention and treatment strategies.\n",
    "\n",
    "In this notebook you will perform a two-sample Mendelian Randomization study. We will apply MR-IVW (Inverse-Variance Weighted) and MR-Egger on a toy dataset to estimate causal effects. MR-IVW combines multiple genetic instruments by weighting them according to their precision, assuming all instruments are valid. In contrast, MR-Egger Regression allows for potential pleiotropy (where instruments affect the outcome through pathways other than the exposure) by including an intercept term to adjust for directional pleiotropy, providing a more flexible approach when there are concerns about instrument validity. At the end there is a bonus question to run five main MR methods all together on the simulated data and analyze the results."
   ]
  },
  {
   "cell_type": "markdown",
   "id": "59aad0a1-bafe-48e1-919c-3e47a6c73a8e",
   "metadata": {},
   "source": [
    "# Load and preprocess the data"
   ]
  },
  {
   "cell_type": "markdown",
   "id": "60c2c061-a784-409a-bc9d-c5568e247647",
   "metadata": {},
   "source": [
    "First please load the data in `../data/MR_genotype_data_with_missing.csv` and `../data/MR_phenotype_data_with_missing.csv` and name them `genotype_data` and `phenotype_data`. Keep the names same before and after the imputation."
   ]
  },
  {
   "cell_type": "markdown",
   "id": "23e49c4e-9f45-4238-87ad-46ac67e10e26",
   "metadata": {
    "kernel": "SoS"
   },
   "source": [
    "***"
   ]
  },
  {
   "cell_type": "markdown",
   "id": "a85fb187-8e52-45c8-b4b7-9f0ee8d24815",
   "metadata": {
    "kernel": "SoS"
   },
   "source": [
    "**Question 1: analyze the pattern of missing data in the phenotype dataset. Are there any specific patterns (e.g., missingness concentrated in certain columns or rows)?**"
   ]
  },
  {
   "cell_type": "markdown",
   "id": "61588667-999e-4351-a947-7b51fbc53496",
   "metadata": {
    "kernel": "SoS"
   },
   "source": [
    "**Answer:**"
   ]
  },
  {
   "cell_type": "code",
   "execution_count": 127,
   "id": "dfd6afaa-789a-4726-be24-506929d7d881",
   "metadata": {},
   "outputs": [
    {
     "name": "stdout",
     "output_type": "stream",
     "text": [
      "'data.frame':\t1000 obs. of  51 variables:\n",
      " $ Individual_ID: int  1 2 3 4 5 6 7 8 9 10 ...\n",
      " $ rs1          : int  0 1 0 1 2 0 1 1 1 0 ...\n",
      " $ rs2          : int  0 1 0 1 1 0 1 0 0 0 ...\n",
      " $ rs3          : int  0 0 0 1 1 1 NA 0 0 0 ...\n",
      " $ rs4          : int  0 2 0 1 0 1 1 1 1 1 ...\n",
      " $ rs5          : int  0 1 1 1 0 0 1 0 1 2 ...\n",
      " $ rs6          : int  0 2 1 1 0 0 0 1 1 0 ...\n",
      " $ rs7          : int  0 0 0 1 0 1 0 1 2 0 ...\n",
      " $ rs8          : int  2 1 0 1 0 1 0 0 1 1 ...\n",
      " $ rs9          : int  1 0 1 0 1 1 0 0 0 1 ...\n",
      " $ rs10         : int  1 1 0 1 1 0 0 0 NA 0 ...\n",
      " $ rs11         : int  0 0 1 0 0 0 2 1 1 0 ...\n",
      " $ rs12         : int  0 0 0 2 0 NA 1 0 0 0 ...\n",
      " $ rs13         : int  0 0 1 2 0 1 0 1 1 0 ...\n",
      " $ rs14         : int  1 0 0 1 2 1 2 0 NA 0 ...\n",
      " $ rs15         : int  0 0 1 0 2 1 1 0 2 2 ...\n",
      " $ rs16         : int  NA 0 1 2 0 1 0 NA 0 1 ...\n",
      " $ rs17         : int  1 0 2 1 0 1 1 0 0 1 ...\n",
      " $ rs18         : int  1 0 1 1 1 1 0 0 1 1 ...\n",
      " $ rs19         : int  2 0 0 NA 0 0 0 1 2 1 ...\n",
      " $ rs20         : int  0 0 0 1 0 NA 0 1 1 0 ...\n",
      " $ rs21         : int  2 0 0 0 1 0 0 1 1 0 ...\n",
      " $ rs22         : int  1 0 0 0 1 1 0 1 0 1 ...\n",
      " $ rs23         : int  1 0 0 1 1 NA 0 1 1 1 ...\n",
      " $ rs24         : int  0 0 NA 0 2 0 1 0 NA 0 ...\n",
      " $ rs25         : int  0 0 1 1 0 0 1 NA 1 NA ...\n",
      " $ rs26         : int  1 1 2 1 1 0 0 0 NA 0 ...\n",
      " $ rs27         : int  0 0 0 2 1 1 0 NA 0 0 ...\n",
      " $ rs28         : int  0 0 0 0 0 1 1 0 1 0 ...\n",
      " $ rs29         : int  0 1 1 1 0 1 1 1 1 1 ...\n",
      " $ rs30         : int  0 1 1 1 1 1 NA 0 1 1 ...\n",
      " $ rs31         : int  0 1 0 1 0 NA 1 0 1 0 ...\n",
      " $ rs32         : int  0 0 1 2 1 0 0 1 0 1 ...\n",
      " $ rs33         : int  0 1 0 2 NA 0 1 0 0 0 ...\n",
      " $ rs34         : int  0 0 0 1 0 1 0 1 1 1 ...\n",
      " $ rs35         : int  1 0 0 0 0 1 0 NA 2 0 ...\n",
      " $ rs36         : int  0 1 0 1 1 0 1 2 0 2 ...\n",
      " $ rs37         : int  1 1 0 0 0 1 0 0 0 1 ...\n",
      " $ rs38         : int  0 1 NA 2 1 1 NA 1 0 0 ...\n",
      " $ rs39         : int  2 1 0 1 0 0 0 1 0 1 ...\n",
      " $ rs40         : int  0 1 2 1 2 2 0 0 1 1 ...\n",
      " $ rs41         : int  0 2 0 0 0 0 NA 0 0 NA ...\n",
      " $ rs42         : int  2 0 NA 2 0 0 0 0 0 2 ...\n",
      " $ rs43         : int  0 1 0 0 1 1 0 1 0 1 ...\n",
      " $ rs44         : int  0 0 2 1 0 0 1 1 2 1 ...\n",
      " $ rs45         : int  0 1 NA 2 0 0 0 0 0 0 ...\n",
      " $ rs46         : int  1 0 1 0 1 0 1 0 NA 1 ...\n",
      " $ rs47         : int  1 0 0 0 0 0 0 1 0 1 ...\n",
      " $ rs48         : int  0 0 NA 0 0 1 1 0 0 0 ...\n",
      " $ rs49         : int  0 0 2 0 1 0 0 0 NA 1 ...\n",
      " $ rs50         : int  1 1 0 0 0 0 1 1 1 0 ...\n",
      "'data.frame':\t1000 obs. of  5 variables:\n",
      " $ Individual_ID: int  1 2 3 4 5 6 7 8 9 10 ...\n",
      " $ Exposure     : num  1.1 3.66 2.32 4.89 1.93 ...\n",
      " $ Outcome      : num  3.65 4.47 3.52 6.91 3.64 ...\n",
      " $ Age          : num  55.8 52.7 48.9 52 56.1 ...\n",
      " $ Sex          : chr  \"Male\" \"Male\" \"Female\" \"Female\" ...\n"
     ]
    },
    {
     "data": {
      "text/html": [
       "<style>\n",
       ".dl-inline {width: auto; margin:0; padding: 0}\n",
       ".dl-inline>dt, .dl-inline>dd {float: none; width: auto; display: inline-block}\n",
       ".dl-inline>dt::after {content: \":\\0020\"; padding-right: .5ex}\n",
       ".dl-inline>dt:not(:first-of-type) {padding-left: .5ex}\n",
       "</style><dl class=dl-inline><dt>Individual_ID</dt><dd>0</dd><dt>rs1</dt><dd>39</dd><dt>rs2</dt><dd>49</dd><dt>rs3</dt><dd>43</dd><dt>rs4</dt><dd>48</dd><dt>rs5</dt><dd>55</dd><dt>rs6</dt><dd>44</dd><dt>rs7</dt><dd>35</dd><dt>rs8</dt><dd>50</dd><dt>rs9</dt><dd>45</dd><dt>rs10</dt><dd>45</dd><dt>rs11</dt><dd>45</dd><dt>rs12</dt><dd>53</dd><dt>rs13</dt><dd>55</dd><dt>rs14</dt><dd>54</dd><dt>rs15</dt><dd>52</dd><dt>rs16</dt><dd>51</dd><dt>rs17</dt><dd>48</dd><dt>rs18</dt><dd>56</dd><dt>rs19</dt><dd>54</dd><dt>rs20</dt><dd>49</dd><dt>rs21</dt><dd>56</dd><dt>rs22</dt><dd>55</dd><dt>rs23</dt><dd>53</dd><dt>rs24</dt><dd>40</dd><dt>rs25</dt><dd>64</dd><dt>rs26</dt><dd>41</dd><dt>rs27</dt><dd>59</dd><dt>rs28</dt><dd>58</dd><dt>rs29</dt><dd>56</dd><dt>rs30</dt><dd>45</dd><dt>rs31</dt><dd>61</dd><dt>rs32</dt><dd>58</dd><dt>rs33</dt><dd>37</dd><dt>rs34</dt><dd>56</dd><dt>rs35</dt><dd>39</dd><dt>rs36</dt><dd>41</dd><dt>rs37</dt><dd>47</dd><dt>rs38</dt><dd>56</dd><dt>rs39</dt><dd>39</dd><dt>rs40</dt><dd>46</dd><dt>rs41</dt><dd>54</dd><dt>rs42</dt><dd>57</dd><dt>rs43</dt><dd>43</dd><dt>rs44</dt><dd>43</dd><dt>rs45</dt><dd>53</dd><dt>rs46</dt><dd>50</dd><dt>rs47</dt><dd>50</dd><dt>rs48</dt><dd>57</dd><dt>rs49</dt><dd>49</dd><dt>rs50</dt><dd>45</dd></dl>\n"
      ],
      "text/latex": [
       "\\begin{description*}\n",
       "\\item[Individual\\textbackslash{}\\_ID] 0\n",
       "\\item[rs1] 39\n",
       "\\item[rs2] 49\n",
       "\\item[rs3] 43\n",
       "\\item[rs4] 48\n",
       "\\item[rs5] 55\n",
       "\\item[rs6] 44\n",
       "\\item[rs7] 35\n",
       "\\item[rs8] 50\n",
       "\\item[rs9] 45\n",
       "\\item[rs10] 45\n",
       "\\item[rs11] 45\n",
       "\\item[rs12] 53\n",
       "\\item[rs13] 55\n",
       "\\item[rs14] 54\n",
       "\\item[rs15] 52\n",
       "\\item[rs16] 51\n",
       "\\item[rs17] 48\n",
       "\\item[rs18] 56\n",
       "\\item[rs19] 54\n",
       "\\item[rs20] 49\n",
       "\\item[rs21] 56\n",
       "\\item[rs22] 55\n",
       "\\item[rs23] 53\n",
       "\\item[rs24] 40\n",
       "\\item[rs25] 64\n",
       "\\item[rs26] 41\n",
       "\\item[rs27] 59\n",
       "\\item[rs28] 58\n",
       "\\item[rs29] 56\n",
       "\\item[rs30] 45\n",
       "\\item[rs31] 61\n",
       "\\item[rs32] 58\n",
       "\\item[rs33] 37\n",
       "\\item[rs34] 56\n",
       "\\item[rs35] 39\n",
       "\\item[rs36] 41\n",
       "\\item[rs37] 47\n",
       "\\item[rs38] 56\n",
       "\\item[rs39] 39\n",
       "\\item[rs40] 46\n",
       "\\item[rs41] 54\n",
       "\\item[rs42] 57\n",
       "\\item[rs43] 43\n",
       "\\item[rs44] 43\n",
       "\\item[rs45] 53\n",
       "\\item[rs46] 50\n",
       "\\item[rs47] 50\n",
       "\\item[rs48] 57\n",
       "\\item[rs49] 49\n",
       "\\item[rs50] 45\n",
       "\\end{description*}\n"
      ],
      "text/markdown": [
       "Individual_ID\n",
       ":   0rs1\n",
       ":   39rs2\n",
       ":   49rs3\n",
       ":   43rs4\n",
       ":   48rs5\n",
       ":   55rs6\n",
       ":   44rs7\n",
       ":   35rs8\n",
       ":   50rs9\n",
       ":   45rs10\n",
       ":   45rs11\n",
       ":   45rs12\n",
       ":   53rs13\n",
       ":   55rs14\n",
       ":   54rs15\n",
       ":   52rs16\n",
       ":   51rs17\n",
       ":   48rs18\n",
       ":   56rs19\n",
       ":   54rs20\n",
       ":   49rs21\n",
       ":   56rs22\n",
       ":   55rs23\n",
       ":   53rs24\n",
       ":   40rs25\n",
       ":   64rs26\n",
       ":   41rs27\n",
       ":   59rs28\n",
       ":   58rs29\n",
       ":   56rs30\n",
       ":   45rs31\n",
       ":   61rs32\n",
       ":   58rs33\n",
       ":   37rs34\n",
       ":   56rs35\n",
       ":   39rs36\n",
       ":   41rs37\n",
       ":   47rs38\n",
       ":   56rs39\n",
       ":   39rs40\n",
       ":   46rs41\n",
       ":   54rs42\n",
       ":   57rs43\n",
       ":   43rs44\n",
       ":   43rs45\n",
       ":   53rs46\n",
       ":   50rs47\n",
       ":   50rs48\n",
       ":   57rs49\n",
       ":   49rs50\n",
       ":   45\n",
       "\n"
      ],
      "text/plain": [
       "Individual_ID           rs1           rs2           rs3           rs4 \n",
       "            0            39            49            43            48 \n",
       "          rs5           rs6           rs7           rs8           rs9 \n",
       "           55            44            35            50            45 \n",
       "         rs10          rs11          rs12          rs13          rs14 \n",
       "           45            45            53            55            54 \n",
       "         rs15          rs16          rs17          rs18          rs19 \n",
       "           52            51            48            56            54 \n",
       "         rs20          rs21          rs22          rs23          rs24 \n",
       "           49            56            55            53            40 \n",
       "         rs25          rs26          rs27          rs28          rs29 \n",
       "           64            41            59            58            56 \n",
       "         rs30          rs31          rs32          rs33          rs34 \n",
       "           45            61            58            37            56 \n",
       "         rs35          rs36          rs37          rs38          rs39 \n",
       "           39            41            47            56            39 \n",
       "         rs40          rs41          rs42          rs43          rs44 \n",
       "           46            54            57            43            43 \n",
       "         rs45          rs46          rs47          rs48          rs49 \n",
       "           53            50            50            57            49 \n",
       "         rs50 \n",
       "           45 "
      ]
     },
     "metadata": {},
     "output_type": "display_data"
    },
    {
     "data": {
      "text/html": [
       "<style>\n",
       ".dl-inline {width: auto; margin:0; padding: 0}\n",
       ".dl-inline>dt, .dl-inline>dd {float: none; width: auto; display: inline-block}\n",
       ".dl-inline>dt::after {content: \":\\0020\"; padding-right: .5ex}\n",
       ".dl-inline>dt:not(:first-of-type) {padding-left: .5ex}\n",
       "</style><dl class=dl-inline><dt>Individual_ID</dt><dd>0</dd><dt>Exposure</dt><dd>30</dd><dt>Outcome</dt><dd>20</dd><dt>Age</dt><dd>0</dd><dt>Sex</dt><dd>0</dd></dl>\n"
      ],
      "text/latex": [
       "\\begin{description*}\n",
       "\\item[Individual\\textbackslash{}\\_ID] 0\n",
       "\\item[Exposure] 30\n",
       "\\item[Outcome] 20\n",
       "\\item[Age] 0\n",
       "\\item[Sex] 0\n",
       "\\end{description*}\n"
      ],
      "text/markdown": [
       "Individual_ID\n",
       ":   0Exposure\n",
       ":   30Outcome\n",
       ":   20Age\n",
       ":   0Sex\n",
       ":   0\n",
       "\n"
      ],
      "text/plain": [
       "Individual_ID      Exposure       Outcome           Age           Sex \n",
       "            0            30            20             0             0 "
      ]
     },
     "metadata": {},
     "output_type": "display_data"
    },
    {
     "name": "stdout",
     "output_type": "stream",
     "text": [
      "Missing Data Summary:\n",
      "Individual_ID      Exposure       Outcome           Age           Sex \n",
      "            0            30            20             0             0 \n",
      "\n",
      "Total Missing Values: 50 ( 1 % )\n"
     ]
    }
   ],
   "source": [
    "# Read the CSV files using read.csv (Base R)\n",
    "genotype_data <- read.csv(\"../data/MR_genotype_data_with_missing.csv\", na.strings = c(\"\", \"NA\"))\n",
    "phenotype_data <- read.csv(\"../data/MR_phenotype_data_with_missing.csv\", na.strings = c(\"\", \"NA\"))\n",
    "\n",
    "# Check structure\n",
    "str(genotype_data)\n",
    "str(phenotype_data)\n",
    "\n",
    "# Count missing values per column\n",
    "colSums(is.na(genotype_data))\n",
    "colSums(is.na(phenotype_data))\n",
    "\n",
    "# Summary of missing values per column\n",
    "missing_per_column <- colSums(is.na(phenotype_data))\n",
    "\n",
    "# Summary of missing values per row\n",
    "missing_per_row <- rowSums(is.na(phenotype_data))\n",
    "\n",
    "# Check overall missingness\n",
    "total_missing <- sum(is.na(phenotype_data))\n",
    "total_values <- prod(dim(phenotype_data))\n",
    "missing_percentage <- (total_missing / total_values) * 100\n",
    "\n",
    "# Print missing data summary\n",
    "cat(\"Missing Data Summary:\\n\")\n",
    "print(missing_per_column)\n",
    "cat(\"\\nTotal Missing Values:\", total_missing, \"(\", round(missing_percentage, 2), \"% )\\n\")"
   ]
  },
  {
   "cell_type": "markdown",
   "id": "452f3080-00b5-425a-b2d1-befedc83c686",
   "metadata": {
    "scrolled": true
   },
   "source": [
    "The missing data in the phenotype_data dataset is primarily concentrated in the Exposure and Outcome columns, with Exposure missing 30 values and Outcome missing 20 values. The Age and Sex variables have no missing data, ensuring that demographic information is complete. Additionally, Individual_ID is fully intact, meaning all participants are accounted for. Overall, the dataset contains a total of 50 missing values, which represents only 1% of the data. Since the missingness is confined to specific columns rather than randomly distributed across the dataset, it suggests a structured pattern rather than completely random missingness."
   ]
  },
  {
   "cell_type": "markdown",
   "id": "90b30c65-63dc-41e1-9aec-b66c6300a769",
   "metadata": {
    "kernel": "SoS"
   },
   "source": [
    "***"
   ]
  },
  {
   "cell_type": "markdown",
   "id": "adbb2c00-d30d-4d75-87af-22fcda3b2056",
   "metadata": {},
   "source": [
    "**Question 2: given the missingness of data, please perform mode imputation for the genotype data and mean imputation for the phenotype data. Report what is the average age after imputation?**"
   ]
  },
  {
   "cell_type": "markdown",
   "id": "e2cf2197-5036-492b-9df1-de25bcf65591",
   "metadata": {
    "kernel": "SoS"
   },
   "source": [
    "**Answer:**"
   ]
  },
  {
   "cell_type": "code",
   "execution_count": 128,
   "id": "64f6e030-3916-4317-94c5-3b3f21723475",
   "metadata": {},
   "outputs": [
    {
     "name": "stdout",
     "output_type": "stream",
     "text": [
      "Average Age After Imputation: 49.65 years\n"
     ]
    }
   ],
   "source": [
    "library(dplyr)\n",
    "\n",
    "# Function for mode imputation\n",
    "mode_impute <- function(x) {\n",
    "  if (is.numeric(x)) {\n",
    "    values <- x[!is.na(x)]\n",
    "    mode_value <- as.numeric(names(sort(table(values), decreasing = TRUE))[1])\n",
    "    x[is.na(x)] <- mode_value\n",
    "  }\n",
    "  return(x)\n",
    "}\n",
    "\n",
    "# Apply mode imputation to all numeric columns in genotype_data\n",
    "genotype_data <- genotype_data %>% mutate(across(where(is.numeric), mode_impute))\n",
    "\n",
    "# Apply mean imputation to all numeric columns in phenotype_data\n",
    "phenotype_data <- phenotype_data %>%\n",
    "  mutate(across(where(is.numeric), ~ replace(., is.na(.), mean(., na.rm = TRUE))))\n",
    "\n",
    "# Compute the new average age after imputation\n",
    "average_age <- mean(phenotype_data$Age, na.rm = TRUE)\n",
    "cat(\"Average Age After Imputation:\", round(average_age, 2), \"years\\n\")"
   ]
  },
  {
   "cell_type": "markdown",
   "id": "94376021-48f0-4740-82fb-369a822e458c",
   "metadata": {
    "kernel": "SoS"
   },
   "source": [
    "***"
   ]
  },
  {
   "cell_type": "markdown",
   "id": "87d6b7de-d872-40c9-89f0-6b7e494a3f1e",
   "metadata": {},
   "source": [
    "# Instrument selection\n",
    "\n",
    "Now we can use the genotype data to calculate SNP-exposure associations (i.e., estimate the beta values for SNPs). Basically you can do a linear regression between the exposure and each variant and collect the coefficients:"
   ]
  },
  {
   "cell_type": "code",
   "execution_count": 129,
   "id": "ecdb3007-ff03-4fbb-8a7c-0814e13dccac",
   "metadata": {
    "tags": []
   },
   "outputs": [],
   "source": [
    "snp_exposure_results <- data.frame(SNP = colnames(genotype_data)[-1],\n",
    "                                    Beta = numeric(ncol(genotype_data) - 1),\n",
    "                                    SE = numeric(ncol(genotype_data) - 1))\n",
    "\n",
    "for (snp in colnames(genotype_data)[-1]) {\n",
    "  genotype <- genotype_data[[snp]]\n",
    "  exposure <- phenotype_data$Exposure\n",
    "  fit <- lm(exposure ~ genotype)\n",
    "  snp_exposure_results$Beta[snp_exposure_results$SNP == snp] <- coef(fit)[2]\n",
    "  snp_exposure_results$SE[snp_exposure_results$SNP == snp] <- summary(fit)$coefficients[2, 2]\n",
    "}"
   ]
  },
  {
   "cell_type": "markdown",
   "id": "1e09f8f1-1a73-4476-be64-23d26f39c04c",
   "metadata": {
    "kernel": "SoS"
   },
   "source": [
    "***"
   ]
  },
  {
   "cell_type": "markdown",
   "id": "7c29f279-2a01-410f-9b80-04080a89630d",
   "metadata": {},
   "source": [
    "**Question 3: please only select the variants with p-value smaller than 0.01. How many are there?**"
   ]
  },
  {
   "cell_type": "markdown",
   "id": "38e3e89d-74e5-4c97-b365-9703c722d0c0",
   "metadata": {
    "kernel": "SoS"
   },
   "source": [
    "**Answer:**"
   ]
  },
  {
   "cell_type": "code",
   "execution_count": 130,
   "id": "c454e36a-9c25-469b-a297-54908a34c0ed",
   "metadata": {},
   "outputs": [
    {
     "name": "stdout",
     "output_type": "stream",
     "text": [
      "Number of significant SNPs (p < 0.01): 16 \n"
     ]
    }
   ],
   "source": [
    "# Add a column for p-values\n",
    "snp_exposure_results$P_value <- numeric(ncol(genotype_data) - 1)\n",
    "\n",
    "# Loop through each SNP to perform regression and extract p-values\n",
    "for (snp in colnames(genotype_data)[-1]) {\n",
    "  genotype <- genotype_data[[snp]]\n",
    "  exposure <- phenotype_data$Exposure\n",
    "  \n",
    "  # Fit linear model\n",
    "  fit <- lm(exposure ~ genotype)\n",
    "  \n",
    "  # Store beta, standard error, and p-value\n",
    "  snp_exposure_results$Beta[snp_exposure_results$SNP == snp] <- coef(fit)[2]\n",
    "  snp_exposure_results$SE[snp_exposure_results$SNP == snp] <- summary(fit)$coefficients[2, 2]\n",
    "  snp_exposure_results$P_value[snp_exposure_results$SNP == snp] <- summary(fit)$coefficients[2, 4]\n",
    "}\n",
    "\n",
    "# Filter SNPs with p-value < 0.01\n",
    "significant_snps <- snp_exposure_results %>% filter(P_value < 0.01)\n",
    "\n",
    "# Count the number of significant variants\n",
    "num_significant_snps <- nrow(significant_snps)\n",
    "\n",
    "# Print result\n",
    "cat(\"Number of significant SNPs (p < 0.01):\", num_significant_snps, \"\\n\")\n"
   ]
  },
  {
   "cell_type": "markdown",
   "id": "81bf9234-af6d-49fc-83bc-2c96c0fcba56",
   "metadata": {
    "kernel": "SoS"
   },
   "source": [
    "***"
   ]
  },
  {
   "cell_type": "markdown",
   "id": "b73dbff1-2305-4327-b883-5cf25bcc6310",
   "metadata": {},
   "source": [
    "# SNP-outcome association"
   ]
  },
  {
   "cell_type": "markdown",
   "id": "9cc0f375-6ed3-4549-9a5a-a7d99d056404",
   "metadata": {
    "kernel": "SoS"
   },
   "source": [
    "***"
   ]
  },
  {
   "cell_type": "markdown",
   "id": "f63916f8-5c40-4d14-b419-20296340f2b4",
   "metadata": {},
   "source": [
    "**Question 4: please run the association analysis between variants and the outcome.**"
   ]
  },
  {
   "cell_type": "markdown",
   "id": "76d23c39-d4ec-4906-be47-996e06d95466",
   "metadata": {
    "kernel": "SoS"
   },
   "source": [
    "**Answer:** perform linear regression, extract beta coefficient, extract standard error, extract p-value"
   ]
  },
  {
   "cell_type": "code",
   "execution_count": 131,
   "id": "b2388725-a58c-449e-8a9b-bc3627090e3b",
   "metadata": {},
   "outputs": [
    {
     "data": {
      "text/html": [
       "<table class=\"dataframe\">\n",
       "<caption>A data.frame: 6 × 4</caption>\n",
       "<thead>\n",
       "\t<tr><th></th><th scope=col>SNP</th><th scope=col>Beta</th><th scope=col>SE</th><th scope=col>P_value</th></tr>\n",
       "\t<tr><th></th><th scope=col>&lt;chr&gt;</th><th scope=col>&lt;dbl&gt;</th><th scope=col>&lt;dbl&gt;</th><th scope=col>&lt;dbl&gt;</th></tr>\n",
       "</thead>\n",
       "<tbody>\n",
       "\t<tr><th scope=row>1</th><td>rs1</td><td>-0.05044823</td><td>0.05605534</td><td>3.683523e-01</td></tr>\n",
       "\t<tr><th scope=row>2</th><td>rs2</td><td> 0.42950695</td><td>0.05416528</td><td>5.865446e-15</td></tr>\n",
       "\t<tr><th scope=row>3</th><td>rs3</td><td> 0.19954450</td><td>0.05460931</td><td>2.715885e-04</td></tr>\n",
       "\t<tr><th scope=row>4</th><td>rs4</td><td> 0.16212542</td><td>0.05391724</td><td>2.705095e-03</td></tr>\n",
       "\t<tr><th scope=row>5</th><td>rs5</td><td> 0.07751324</td><td>0.05674947</td><td>1.722829e-01</td></tr>\n",
       "\t<tr><th scope=row>6</th><td>rs6</td><td> 0.12180204</td><td>0.05550144</td><td>2.842396e-02</td></tr>\n",
       "</tbody>\n",
       "</table>\n"
      ],
      "text/latex": [
       "A data.frame: 6 × 4\n",
       "\\begin{tabular}{r|llll}\n",
       "  & SNP & Beta & SE & P\\_value\\\\\n",
       "  & <chr> & <dbl> & <dbl> & <dbl>\\\\\n",
       "\\hline\n",
       "\t1 & rs1 & -0.05044823 & 0.05605534 & 3.683523e-01\\\\\n",
       "\t2 & rs2 &  0.42950695 & 0.05416528 & 5.865446e-15\\\\\n",
       "\t3 & rs3 &  0.19954450 & 0.05460931 & 2.715885e-04\\\\\n",
       "\t4 & rs4 &  0.16212542 & 0.05391724 & 2.705095e-03\\\\\n",
       "\t5 & rs5 &  0.07751324 & 0.05674947 & 1.722829e-01\\\\\n",
       "\t6 & rs6 &  0.12180204 & 0.05550144 & 2.842396e-02\\\\\n",
       "\\end{tabular}\n"
      ],
      "text/markdown": [
       "\n",
       "A data.frame: 6 × 4\n",
       "\n",
       "| <!--/--> | SNP &lt;chr&gt; | Beta &lt;dbl&gt; | SE &lt;dbl&gt; | P_value &lt;dbl&gt; |\n",
       "|---|---|---|---|---|\n",
       "| 1 | rs1 | -0.05044823 | 0.05605534 | 3.683523e-01 |\n",
       "| 2 | rs2 |  0.42950695 | 0.05416528 | 5.865446e-15 |\n",
       "| 3 | rs3 |  0.19954450 | 0.05460931 | 2.715885e-04 |\n",
       "| 4 | rs4 |  0.16212542 | 0.05391724 | 2.705095e-03 |\n",
       "| 5 | rs5 |  0.07751324 | 0.05674947 | 1.722829e-01 |\n",
       "| 6 | rs6 |  0.12180204 | 0.05550144 | 2.842396e-02 |\n",
       "\n"
      ],
      "text/plain": [
       "  SNP Beta        SE         P_value     \n",
       "1 rs1 -0.05044823 0.05605534 3.683523e-01\n",
       "2 rs2  0.42950695 0.05416528 5.865446e-15\n",
       "3 rs3  0.19954450 0.05460931 2.715885e-04\n",
       "4 rs4  0.16212542 0.05391724 2.705095e-03\n",
       "5 rs5  0.07751324 0.05674947 1.722829e-01\n",
       "6 rs6  0.12180204 0.05550144 2.842396e-02"
      ]
     },
     "metadata": {},
     "output_type": "display_data"
    }
   ],
   "source": [
    "# Create an empty data frame to store results\n",
    "snp_outcome_results <- data.frame(\n",
    "  SNP = colnames(genotype_data)[-1],\n",
    "  Beta = numeric(ncol(genotype_data) - 1),\n",
    "  SE = numeric(ncol(genotype_data) - 1),\n",
    "  P_value = numeric(ncol(genotype_data) - 1)\n",
    ")\n",
    "\n",
    "# Loop through each SNP and perform linear regression with Outcome\n",
    "for (snp in colnames(genotype_data)[-1]) {\n",
    "  genotype <- genotype_data[[snp]]\n",
    "  outcome <- phenotype_data$Outcome\n",
    "  \n",
    "  # Fit linear model\n",
    "  fit <- lm(outcome ~ genotype)\n",
    "  \n",
    "  # Store beta, standard error, and p-value\n",
    "  snp_outcome_results$Beta[snp_outcome_results$SNP == snp] <- coef(fit)[2]\n",
    "  snp_outcome_results$SE[snp_outcome_results$SNP == snp] <- summary(fit)$coefficients[2, 2]\n",
    "  snp_outcome_results$P_value[snp_outcome_results$SNP == snp] <- summary(fit)$coefficients[2, 4]\n",
    "}\n",
    "\n",
    "# Display the first few results\n",
    "head(snp_outcome_results)\n"
   ]
  },
  {
   "cell_type": "markdown",
   "id": "0072fa64-e3f0-4170-acbf-4eae60d641f6",
   "metadata": {},
   "source": [
    "*If only significant SNPs are needed, filter for p-value < 0.01.*"
   ]
  },
  {
   "cell_type": "code",
   "execution_count": 132,
   "id": "45a8b2c5-d71a-4aff-bd01-dc3facd320f6",
   "metadata": {},
   "outputs": [
    {
     "name": "stdout",
     "output_type": "stream",
     "text": [
      "    SNP      Beta         SE      P_value\n",
      "1   rs2 0.4295070 0.05416528 5.865446e-15\n",
      "2   rs3 0.1995445 0.05460931 2.715885e-04\n",
      "3   rs4 0.1621254 0.05391724 2.705095e-03\n",
      "4   rs8 0.1646770 0.05561988 3.141438e-03\n",
      "5  rs10 0.4814048 0.05440493 3.963061e-18\n",
      "6  rs14 0.1567184 0.05738907 6.429316e-03\n",
      "7  rs15 0.4876392 0.05349528 4.195188e-19\n",
      "8  rs16 0.3676765 0.05576496 6.958787e-11\n",
      "9  rs19 0.1456230 0.05619870 9.703290e-03\n",
      "10 rs20 0.2281243 0.05573015 4.594971e-05\n",
      "11 rs22 0.1563983 0.05625187 5.532639e-03\n",
      "12 rs26 0.1859196 0.05455533 6.807765e-04\n",
      "13 rs38 0.1588905 0.05636072 4.910034e-03\n",
      "14 rs42 0.5078119 0.05314854 9.279648e-21\n",
      "15 rs45 0.1679705 0.05550947 2.541831e-03\n"
     ]
    }
   ],
   "source": [
    "significant_snp_outcome <- snp_outcome_results %>% filter(P_value < 0.01)\n",
    "print(significant_snp_outcome)"
   ]
  },
  {
   "cell_type": "markdown",
   "id": "6ddd14f8-ab2c-45a3-ae79-373b02e3f098",
   "metadata": {},
   "source": [
    "*To compare SNP Exposure vs SNP Outcome, merge data.*"
   ]
  },
  {
   "cell_type": "code",
   "execution_count": 146,
   "id": "6416f174-2af8-4ec4-bd28-67236a89e5c4",
   "metadata": {},
   "outputs": [
    {
     "name": "stdout",
     "output_type": "stream",
     "text": [
      "  SNP Beta_Exposure SE_Exposure P_value_Exposure Beta_Outcome SE_Outcome\n",
      "1 rs1    0.04006549  0.05412598     0.4593366672  -0.05044823 0.05605534\n",
      "2 rs2    0.09201819  0.05383759     0.0877282691   0.42950695 0.05416528\n",
      "3 rs3    0.17546103  0.05278291     0.0009189746   0.19954450 0.05460931\n",
      "4 rs4    0.15615708  0.05205576     0.0027686066   0.16212542 0.05391724\n",
      "5 rs5    0.11350794  0.05472240     0.0383119982   0.07751324 0.05674947\n",
      "6 rs6    0.13837298  0.05353437     0.0098859243   0.12180204 0.05550144\n",
      "  P_value_Outcome\n",
      "1    3.683523e-01\n",
      "2    5.865446e-15\n",
      "3    2.715885e-04\n",
      "4    2.705095e-03\n",
      "5    1.722829e-01\n",
      "6    2.842396e-02\n"
     ]
    }
   ],
   "source": [
    "merged_exp_outcome <- inner_join(snp_exposure_results, snp_outcome_results, by = \"SNP\", suffix = c(\"_Exposure\", \"_Outcome\"))\n",
    "print(head(merged_exp_outcome))"
   ]
  },
  {
   "cell_type": "markdown",
   "id": "00d22e53-93c7-456d-9a8d-3020428224f2",
   "metadata": {
    "kernel": "SoS"
   },
   "source": [
    "***"
   ]
  },
  {
   "cell_type": "markdown",
   "id": "7fb741c7-e63b-4879-81ab-0fb10bf1edb5",
   "metadata": {},
   "source": [
    "# Run two-sample MR"
   ]
  },
  {
   "cell_type": "markdown",
   "id": "9f01af0a-a977-403e-a2e9-545e86ea8e67",
   "metadata": {},
   "source": [
    "Noe we are ready to run the two-sample MR analysis. Here we can use a R package called [`MendelianRandomization` on CRAN](https://cran.r-project.org/web/packages/MendelianRandomization/index.html)."
   ]
  },
  {
   "cell_type": "code",
   "execution_count": 134,
   "id": "f6b2dcc2-208c-4602-a205-37d3d4802a3c",
   "metadata": {
    "tags": []
   },
   "outputs": [],
   "source": [
    "# Install MendelianRandomization package if not already installed\n",
    "if (!requireNamespace(\"MendelianRandomization\", quietly = TRUE)) {\n",
    "  install.packages(\"MendelianRandomization\")\n",
    "}\n",
    "\n",
    "# Load the package\n",
    "library(MendelianRandomization)"
   ]
  },
  {
   "cell_type": "markdown",
   "id": "8c637e0f-b749-4fbd-b638-c4c8f9df1bbf",
   "metadata": {},
   "source": [
    "In the vignette [here](https://cran.r-project.org/web/packages/MendelianRandomization/vignettes/Vignette_MR.pdf), please learn how to apply two basic MR methods -- MR-IVW amd MR-Egger. \n",
    "\n",
    "**Hint: the input for `mr_ivw` function consists of four components: coefficients and standard errors between variants and exposures, and between variants and outcome. Same for `mr_egger`. Check page 4 and 6 on the vignette PDF.**"
   ]
  },
  {
   "cell_type": "markdown",
   "id": "f91af33d-3f42-469d-8bf6-a01a57b551f7",
   "metadata": {
    "kernel": "SoS"
   },
   "source": [
    "***"
   ]
  },
  {
   "cell_type": "markdown",
   "id": "eed1fd0f-c6f0-4527-86ad-65536ef0751b",
   "metadata": {},
   "source": [
    "**Question 5: please run the MR-IVW and MR-Egger analysis.**"
   ]
  },
  {
   "cell_type": "markdown",
   "id": "86c4bb6e-256a-4831-be09-1b94b24ce812",
   "metadata": {
    "kernel": "SoS"
   },
   "source": [
    "**Answer:**"
   ]
  },
  {
   "cell_type": "code",
   "execution_count": 135,
   "id": "5cb562f9-8046-454c-92bf-6ce8bdc87e9e",
   "metadata": {},
   "outputs": [],
   "source": [
    "# Use only strong SNPs\n",
    "strong_snps <- snp_exposure_results %>% filter(P_value < 0.05)\n",
    "\n",
    "# Merge with SNP-outcome results (only matching SNPs)\n",
    "mr_data <- inner_join(strong_snps, snp_outcome_results, by = \"SNP\", suffix = c(\"_Exposure\", \"_Outcome\"))\n",
    "\n",
    "# Extract required inputs for MR\n",
    "bx <- mr_data$Beta_Exposure   # SNP-exposure effect sizes\n",
    "bxse <- mr_data$SE_Exposure   # SNP-exposure standard errors\n",
    "by <- mr_data$Beta_Outcome    # SNP-outcome effect sizes\n",
    "byse <- mr_data$SE_Outcome    # SNP-outcome standard errors"
   ]
  },
  {
   "cell_type": "code",
   "execution_count": 136,
   "id": "6aedb5f0-5392-48e7-961d-31b6b9184ca7",
   "metadata": {},
   "outputs": [],
   "source": [
    "# Create MR input object\n",
    "mr_input_data <- mr_input(bx = bx, bxse = bxse, by = by, byse = byse)"
   ]
  },
  {
   "cell_type": "code",
   "execution_count": 137,
   "id": "470e02eb-ff01-4a62-8274-662c9e24abba",
   "metadata": {},
   "outputs": [
    {
     "name": "stdout",
     "output_type": "stream",
     "text": [
      "\n",
      "Inverse-variance weighted method\n",
      "(variants uncorrelated, random-effect model)\n",
      "\n",
      "Number of Variants : 26 \n",
      "\n",
      "------------------------------------------------------------------\n",
      " Method Estimate Std Error 95% CI       p-value\n",
      "    IVW    0.942     0.117 0.712, 1.171   0.000\n",
      "------------------------------------------------------------------\n",
      "Residual standard error =  1.629 \n",
      "Heterogeneity test statistic (Cochran's Q) = 66.3244 on 25 degrees of freedom, (p-value = 0.0000). I^2 = 62.3%. \n",
      "F statistic = 8.0. \n"
     ]
    }
   ],
   "source": [
    "mr_ivw_result <- mr_ivw(mr_input_data)\n",
    "print(mr_ivw_result)"
   ]
  },
  {
   "cell_type": "code",
   "execution_count": 138,
   "id": "f1706819-3442-490d-aa2d-0c6458e67756",
   "metadata": {},
   "outputs": [
    {
     "name": "stdout",
     "output_type": "stream",
     "text": [
      "\n",
      "MR-Egger method\n",
      "(variants uncorrelated, random-effect model)\n",
      "\n",
      "Number of Variants =  26 \n",
      "\n",
      "------------------------------------------------------------------\n",
      "      Method Estimate Std Error  95% CI       p-value\n",
      "    MR-Egger    0.303     0.529 -0.735, 1.341   0.567\n",
      " (intercept)    0.099     0.080 -0.058, 0.255   0.217\n",
      "------------------------------------------------------------------\n",
      "Residual Standard Error :  1.612 \n",
      "Heterogeneity test statistic = 62.3561 on 24 degrees of freedom, (p-value = 0.0000)\n",
      "I^2_GX statistic: 0.0%\n"
     ]
    }
   ],
   "source": [
    "mr_egger_result <- mr_egger(mr_input_data, robust = FALSE,\n",
    "                        penalized = FALSE,\n",
    "                        correl = FALSE,\n",
    "                        distribution = \"normal\",\n",
    "                        alpha = 0.05)\n",
    "print(mr_egger_result)\n"
   ]
  },
  {
   "cell_type": "markdown",
   "id": "b1820a85-0e21-425b-a95d-0d5d8c16ed05",
   "metadata": {
    "kernel": "SoS"
   },
   "source": [
    "***"
   ]
  },
  {
   "cell_type": "markdown",
   "id": "70706346-c25a-4143-a874-d5100963cd9d",
   "metadata": {},
   "source": [
    "# Analyze the results"
   ]
  },
  {
   "cell_type": "markdown",
   "id": "b0487e95-5f10-490e-827b-a578bd2f4367",
   "metadata": {
    "kernel": "SoS"
   },
   "source": [
    "***"
   ]
  },
  {
   "cell_type": "markdown",
   "id": "a4cb6d1c-b1d5-4690-836f-a56333468333",
   "metadata": {},
   "source": [
    "**Question 6: Using the MR-IVW and MR-Egger methods, report the estimated causal effect of the exposure on the outcome, along with standard errors, 95% confidence intervals, and p-values. Compare the estimates from MR-IVW and MR-Egger. What are the key differences between the two methods in your results?**"
   ]
  },
  {
   "cell_type": "markdown",
   "id": "35b1ca21-6ee3-4416-b0bc-ddf84b0a0636",
   "metadata": {
    "kernel": "SoS"
   },
   "source": [
    "**Answer:**"
   ]
  },
  {
   "cell_type": "markdown",
   "id": "db044a0d-1581-451a-91bb-948d5daea881",
   "metadata": {},
   "source": [
    "The MR-IVW method estimated a significant causal effect of the exposure on the outcome (Beta = 0.942, p < 0.001), with a 95% confidence interval of (0.712, 1.171), suggesting a strong positive association. However, heterogeneity was high (Cochran’s Q p < 0.0001, I² = 62.3%), and the F-statistic of 8.0 indicates potential weak instrument bias. In contrast, MR-Egger produced a weaker, non-significant estimate (Beta = 0.303, p = 0.567), with a wide confidence interval (-0.735, 1.341), suggesting no strong causal effect. The MR-Egger intercept test (p = 0.217) found no evidence of pleiotropy, meaning IVW results are likely unbiased. However, the I²_GX = 0.0% statistic suggests SNPs do not strongly predict exposure, raising concerns about weak instruments. "
   ]
  },
  {
   "cell_type": "markdown",
   "id": "8f060693-21aa-49b6-a315-dc2468438b4e",
   "metadata": {
    "kernel": "SoS"
   },
   "source": [
    "***"
   ]
  },
  {
   "cell_type": "markdown",
   "id": "d623b33c-794d-40e8-8f74-ac7a2fc2670f",
   "metadata": {},
   "source": [
    "**Question 7 (optional): Run all the primary Mendelian Randomization methods using the `mr_allmethods` function from the package (use the code below). Visualize the results with the `mr_plot` function. Based on your findings, provide an analysis of the results and discuss the reasons for any observed patterns or outcomes.**\n",
    "\n",
    "```R\n",
    "res = mr_allmethods(mr_input(bx=merged_results$Beta_exposure, bxse=merged_results$SE_exposure, \n",
    "                               by=merged_results$Beta_outcome, byse=merged_results$SE_outcome), method = \"main\")\n",
    "```\n"
   ]
  },
  {
   "cell_type": "code",
   "execution_count": 145,
   "id": "36ff3569-c671-4f8e-afe7-7d1ced4714a8",
   "metadata": {},
   "outputs": [
    {
     "name": "stdout",
     "output_type": "stream",
     "text": [
      "          Method Estimate Std Error 95% CI        P-value\n",
      "   Simple median    0.877     0.130   0.622 1.133   0.000\n",
      " Weighted median    0.869     0.124   0.627 1.112   0.000\n",
      "             IVW    1.112     0.153   0.812 1.413   0.000\n",
      "        MR-Egger    0.754     0.337   0.094 1.415   0.025\n",
      "     (intercept)    0.047     0.040  -0.030 0.125   0.234\n"
     ]
    },
    {
     "data": {
      "image/png": "[encoded data removed]",
      "text/plain": [
       "plot without title"
      ]
     },
     "metadata": {
      "image/png": {
       "height": 420,
       "width": 420
      }
     },
     "output_type": "display_data"
    }
   ],
   "source": [
    "#colnames(merged_results)\n",
    "\n",
    "res = mr_allmethods(mr_input\n",
    "                    (bx=merged_results$Beta_Exposure, bxse=merged_results$SE_Exposure, \n",
    "                     by=merged_results$Beta_Outcome, byse=merged_results$SE_Outcome), method = \"main\")\n",
    "\n",
    "print(res)\n",
    "\n",
    "mr_plot(res)"
   ]
  },
  {
   "cell_type": "markdown",
   "id": "005dac3d-d081-475b-8519-63cd7c8aa804",
   "metadata": {},
   "source": [
    "The Mendelian Randomization plot visualizes the estimated causal effect of the exposure on the outcome using different MR methods. The IVW (red line) provides the steepest slope, suggesting the strongest causal effect, while the MR-Egger (green line) has a slightly shallower slope, reflecting its adjustment for pleiotropy. The Simple Median (blue) and Weighted Median (purple) estimates align closely with IVW, reinforcing robustness. The scatter points represent SNP-specific associations, with some potential outliers influencing heterogeneity. Since the MR-Egger intercept test was not significant, there is no strong evidence of directional pleiotropy, supporting the validity of the IVW estimate. However, the presence of heterogeneity (Cochran’s Q p < 0.0001) suggests some SNPs may have varying effects, warranting further sensitivity analyses."
   ]
  },
  {
   "cell_type": "code",
   "execution_count": null,
   "id": "1f1609b8-125a-4fea-b582-baac7242d9e8",
   "metadata": {},
   "outputs": [],
   "source": []
  }
 ],
 "metadata": {
  "kernelspec": {
   "display_name": "R",
   "language": "R",
   "name": "ir"
  },
  "language_info": {
   "codemirror_mode": "r",
   "file_extension": ".r",
   "mimetype": "text/x-r-source",
   "name": "R",
   "pygments_lexer": "r",
   "version": "4.4.1"
  }
 },
 "nbformat": 4,
 "nbformat_minor": 5
}
